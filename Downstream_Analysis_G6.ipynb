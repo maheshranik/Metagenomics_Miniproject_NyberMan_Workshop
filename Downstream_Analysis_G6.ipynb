{
 "cells": [
  {
   "cell_type": "code",
   "execution_count": 3,
   "id": "eec73b99",
   "metadata": {},
   "outputs": [
    {
     "name": "stdout",
     "output_type": "stream",
     "text": [
      "\u001b[32mSaved FeatureTable[Composition] to: comp-table.qza\u001b[0m\n",
      "\u001b[0m\u001b[31m\u001b[1mPlugin error from composition:\n",
      "\n",
      "  All values in `grouping` are unique. This method cannot operate on a grouping vector with only unique values (e.g., there are no 'within' variance because each group of samples contains only a single sample).\n",
      "\n",
      "Debug info has been saved to /tmp/qiime2-q2cli-err-mkqel0dr.log\u001b[0m\n",
      "\u001b[0m"
     ]
    }
   ],
   "source": [
    "# Differential Abundance Analysis\n",
    "!qiime composition add-pseudocount \\\n",
    "  --i-table table.qza \\\n",
    "  --o-composition-table comp-table.qza\n",
    "\n",
    "!qiime composition ancom \\\n",
    "  --i-table comp-table.qza \\\n",
    "  --m-metadata-file metadata.tsv \\\n",
    "  --m-metadata-column Sample_name \\\n",
    "  --o-visualization ancom.qzv\n"
   ]
  },
  {
   "cell_type": "code",
   "execution_count": 3,
   "id": "f97cf564",
   "metadata": {},
   "outputs": [
    {
     "name": "stdout",
     "output_type": "stream",
     "text": [
      "\u001b[0m"
     ]
    }
   ],
   "source": [
    "!qiime picrust2 full-pipeline \\\n",
    "  --i-table table.qza \\\n",
    "  --i-seq rep-seqs.qza \\\n",
    "  --output-dir picrust2_out \\\n",
    "  --p-threads 2 \\\n",
    "  --p-hsp-method mp \\\n",
    "  --p-max-nsti 2"
   ]
  },
  {
   "cell_type": "code",
   "execution_count": 1,
   "id": "58cc7c57",
   "metadata": {},
   "outputs": [
    {
     "name": "stdout",
     "output_type": "stream",
     "text": [
      "--2024-08-27 19:27:22--  https://data.qiime2.org/classifiers/sklearn-1.4.2/greengenes2/2022.10.backbone.full-length.nb.sklearn-1.4.2.qza\n",
      "Resolving data.qiime2.org (data.qiime2.org)... 54.200.1.12\n",
      "Connecting to data.qiime2.org (data.qiime2.org)|54.200.1.12|:443... connected.\n",
      "HTTP request sent, awaiting response... 302 FOUND\n",
      "Location: https://s3-us-west-2.amazonaws.com/qiime2-data/classifiers/sklearn-1.4.2/greengenes2/2022.10.backbone.full-length.nb.sklearn-1.4.2.qza [following]\n",
      "--2024-08-27 19:27:23--  https://s3-us-west-2.amazonaws.com/qiime2-data/classifiers/sklearn-1.4.2/greengenes2/2022.10.backbone.full-length.nb.sklearn-1.4.2.qza\n",
      "Resolving s3-us-west-2.amazonaws.com (s3-us-west-2.amazonaws.com)... 52.92.132.208, 52.92.165.88, 52.92.184.176, ...\n",
      "Connecting to s3-us-west-2.amazonaws.com (s3-us-west-2.amazonaws.com)|52.92.132.208|:443... connected.\n",
      "HTTP request sent, awaiting response... 200 OK\n",
      "Length: 179986419 (172M) [binary/octet-stream]\n",
      "Saving to: ‘greengenes2022.10.backbone.full-length.nb.sklearn-1.4.2.qza’\n",
      "\n",
      "greengenes2022.10.b 100%[===================>] 171.65M  2.86MB/s    in 6m 54s  \n",
      "\n",
      "2024-08-27 19:34:18 (425 KB/s) - ‘greengenes2022.10.backbone.full-length.nb.sklearn-1.4.2.qza’ saved [179986419/179986419]\n",
      "\n",
      "\u001b[32mSaved FeatureData[Taxonomy] to: taxonomy.qza\u001b[0m\n",
      "\u001b[0m"
     ]
    }
   ],
   "source": [
    "#green gene latest version\n",
    "!wget \\\n",
    "  -O \"greengenes2022.10.backbone.full-length.nb.sklearn-1.4.2.qza\" \\\n",
    "  \"https://data.qiime2.org/classifiers/sklearn-1.4.2/greengenes2/2022.10.backbone.full-length.nb.sklearn-1.4.2.qza\"\n",
    " \n",
    "!qiime feature-classifier classify-sklearn \\\n",
    "  --i-classifier greengenes2022.10.backbone.full-length.nb.sklearn-1.4.2.qza \\\n",
    "  --i-reads rep-seqs.qza \\\n",
    "  --o-classification taxonomy.qza"
   ]
  },
  {
   "cell_type": "code",
   "execution_count": 2,
   "id": "63407011",
   "metadata": {},
   "outputs": [
    {
     "name": "stdout",
     "output_type": "stream",
     "text": [
      "\u001b[32mSaved Visualization to: taxonomy.qzv\u001b[0m\n",
      "\u001b[0m\u001b[32mSaved Visualization to: taxa-bar-plots.qzv\u001b[0m\n",
      "\u001b[0m"
     ]
    }
   ],
   "source": [
    "#green gene latest version Visualisation of the data:\n",
    "#Visualisation of the data:\n",
    "!qiime metadata tabulate \\\n",
    "  --m-input-file taxonomy.qza \\\n",
    "  --o-visualization taxonomy.qzv\n",
    "\n",
    "!qiime taxa barplot \\\n",
    "  --i-table table.qza \\\n",
    "  --i-taxonomy taxonomy.qza \\\n",
    "  --m-metadata-file  metadata.tsv \\\n",
    "  --o-visualization taxa-bar-plots.qzv"
   ]
  },
  {
   "cell_type": "code",
   "execution_count": 3,
   "id": "4d7c351f",
   "metadata": {},
   "outputs": [
    {
     "name": "stdout",
     "output_type": "stream",
     "text": [
      "\u001b[32mExported unrooted-tree.qza as NewickDirectoryFormat to directory exported-unrooted-tree/\u001b[0m\n",
      "\u001b[0m\u001b[32mExported rooted-tree.qza as NewickDirectoryFormat to directory exported-rooted-tree/\u001b[0m\n",
      "\u001b[0m"
     ]
    }
   ],
   "source": [
    "!qiime tools export \\\n",
    "  --input-path unrooted-tree.qza \\\n",
    "  --output-path exported-unrooted-tree/\n",
    " \n",
    "!qiime tools export \\\n",
    "  --input-path rooted-tree.qza \\\n",
    "  --output-path exported-rooted-tree/\n"
   ]
  },
  {
   "cell_type": "code",
   "execution_count": null,
   "id": "2d40c55d",
   "metadata": {},
   "outputs": [],
   "source": []
  }
 ],
 "metadata": {
  "kernelspec": {
   "display_name": "Python 3 (ipykernel)",
   "language": "python",
   "name": "python3"
  },
  "language_info": {
   "codemirror_mode": {
    "name": "ipython",
    "version": 3
   },
   "file_extension": ".py",
   "mimetype": "text/x-python",
   "name": "python",
   "nbconvert_exporter": "python",
   "pygments_lexer": "ipython3",
   "version": "3.9.19"
  }
 },
 "nbformat": 4,
 "nbformat_minor": 5
}
